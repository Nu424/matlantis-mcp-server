{
 "cells": [
  {
   "cell_type": "markdown",
   "id": "d5958cdb",
   "metadata": {},
   "source": [
    "## MatlantisSSHServiceの検証\n"
   ]
  },
  {
   "cell_type": "markdown",
   "id": "acbd88c6",
   "metadata": {},
   "source": [
    "### 接続"
   ]
  },
  {
   "cell_type": "code",
   "execution_count": null,
   "id": "29cf4bdd",
   "metadata": {},
   "outputs": [],
   "source": [
    "import os\n",
    "from dotenv import load_dotenv\n",
    "from matlantis_ssh_service import MatlantisSSHService\n",
    "\n",
    "load_dotenv()\n",
    "\n",
    "# ---接続\n",
    "mss = MatlantisSSHService()\n",
    "mss.connect(os.getenv(\"WEBSOCAT_BIN\"),\n",
    "            os.getenv(\"MATLANTIS_DOMAIN\"),\n",
    "            os.getenv(\"MATLANTIS_USER_ID\"),\n",
    "            os.getenv(\"NOTEBOOK_PRE_SHARED_KEY\"),\n",
    "            os.getenv(\"USER_NAME\"),\n",
    "            os.getenv(\"IDENTITY_FILE\"),)\n",
    "\n",
    "# ---ためしにコマンド実行\n",
    "result = mss._execute_command(\"ls\")\n",
    "print(result.stdout)"
   ]
  },
  {
   "cell_type": "code",
   "execution_count": null,
   "id": "491e7a1f",
   "metadata": {},
   "outputs": [],
   "source": [
    "# ---ディレクトリのアップロード\n",
    "mss.upload_directory(\"./test_dir/\", \"~/test_dir\")\n",
    "\n",
    "result = mss._execute_command(\"ls\")\n",
    "print(result.stdout)"
   ]
  },
  {
   "cell_type": "code",
   "execution_count": null,
   "id": "f4a1757a",
   "metadata": {},
   "outputs": [],
   "source": [
    "# ---ディレクトリのダウンロード\n",
    "mss.download_directory(\"~/test_dir2\", \"./test_dir2\")\n"
   ]
  },
  {
   "cell_type": "code",
   "execution_count": null,
   "id": "978016e5",
   "metadata": {},
   "outputs": [],
   "source": [
    "mss.disconnect()"
   ]
  },
  {
   "cell_type": "markdown",
   "id": "1cbb230d",
   "metadata": {},
   "source": [
    "## 模索場"
   ]
  },
  {
   "cell_type": "code",
   "execution_count": null,
   "id": "3417ed4d",
   "metadata": {},
   "outputs": [],
   "source": [
    "import paramiko\n",
    "import os\n",
    "\n",
    "ssh_config = paramiko.SSHConfig()\n",
    "config_path = os.path.expanduser('~/.ssh/config')\n",
    "\n",
    "with open(config_path, 'r') as f:\n",
    "    ssh_config.parse(f)\n",
    "\n",
    "host = 'matlantis'\n",
    "\n",
    "config = ssh_config.lookup(host)\n",
    "config"
   ]
  },
  {
   "cell_type": "code",
   "execution_count": null,
   "id": "83870845",
   "metadata": {},
   "outputs": [],
   "source": [
    "config['proxycommand']"
   ]
  },
  {
   "cell_type": "code",
   "execution_count": null,
   "id": "b8f899c5",
   "metadata": {},
   "outputs": [],
   "source": [
    "f\"cmd.exe /c {config['proxycommand']}\""
   ]
  },
  {
   "cell_type": "code",
   "execution_count": null,
   "id": "b764beee",
   "metadata": {},
   "outputs": [],
   "source": [
    "for key in ['hostname', 'user', 'proxycommand', 'identityfile']:\n",
    "    if config.get(key) is None:\n",
    "        assert False, f\"{key} is not found in config\"\n",
    "\n",
    "\n",
    "proxy = paramiko.ProxyCommand(f\"cmd.exe /c {config['proxycommand']}\")\n",
    "\n",
    "ssh = paramiko.SSHClient()\n",
    "ssh.set_missing_host_key_policy(paramiko.AutoAddPolicy())\n",
    "\n",
    "\n",
    "ssh.connect(\n",
    "    hostname=config['hostname'],\n",
    "    username=config['user'],\n",
    "    port=config.get('port', 22),\n",
    "    key_filename=config['identityfile'][0] if isinstance(config['identityfile'], list) else config['identityfile'],\n",
    "    sock=proxy\n",
    ")\n"
   ]
  },
  {
   "cell_type": "code",
   "execution_count": null,
   "id": "238a4b4e",
   "metadata": {},
   "outputs": [],
   "source": [
    "import subprocess\n",
    "import time\n",
    "import os\n",
    "from dotenv import load_dotenv\n",
    "from fabric import Connection\n",
    "\n",
    "load_dotenv()\n",
    "\n",
    "WEBSOCAT_BIN = r\"websocat.x86_64-pc-windows-gnu.exe\"\n",
    "if not WEBSOCAT_BIN:\n",
    "    raise RuntimeError(\"websocat が PATH に見つかりません。インストールしてください。\")\n",
    "\n",
    "# WebSocket エンドポイント（例）\n",
    "\n",
    "MATLANTIS_DOMAIN = os.getenv(\"MATLANTIS_DOMAIN\")\n",
    "MATLANTIS_USER_ID = os.getenv(\"MATLANTIS_USER_ID\")\n",
    "NOTEBOOK_PRE_SHARED_KEY = os.getenv(\"NOTEBOOK_PRE_SHARED_KEY\")\n",
    "USER_NAME = os.getenv(\"USER_NAME\")\n",
    "IDENTITY_FILE = os.getenv(\"IDENTITY_FILE\")\n",
    "\n",
    "ws_url = f\"wss://{MATLANTIS_DOMAIN}/nb/{MATLANTIS_USER_ID}/default/api/ssh-over-ws\"\n",
    "local_port = 2222\n",
    "\n",
    "# websocat をローカル TCP リスン -> remote ws に接続する形で起動\n",
    "proc = subprocess.Popen([\n",
    "    WEBSOCAT_BIN,\n",
    "    \"--binary\",\n",
    "    f'-H=cookie: matlantis-notebook-pre-shared-key={NOTEBOOK_PRE_SHARED_KEY}',\n",
    "    f\"tcp-l:0.0.0.0:{local_port}\",  # 接続をローカルで待つ\n",
    "    ws_url\n",
    "])\n",
    "\n",
    "# 少し待ってポートが立ち上がるのを待つ（単純化）\n",
    "time.sleep(0.5)\n",
    "\n",
    "try:\n",
    "    # Fabric で接続（ローカルポートに接続するだけ）\n",
    "    conn = Connection(\n",
    "        host=\"127.0.0.1\",\n",
    "        user=USER_NAME,\n",
    "        port=local_port,\n",
    "        connect_kwargs={\n",
    "            \"key_filename\": IDENTITY_FILE\n",
    "        }\n",
    "    )\n",
    "    print(\"実行待ち...\")\n",
    "    result = conn.run(\"ls\", hide=True)\n",
    "    print(\"実行完了!\")\n",
    "    print(result.stdout)\n",
    "    conn.close()\n",
    "finally:\n",
    "    proc.terminate()\n",
    "    proc.wait()"
   ]
  }
 ],
 "metadata": {
  "kernelspec": {
   "display_name": ".venv",
   "language": "python",
   "name": "python3"
  },
  "language_info": {
   "codemirror_mode": {
    "name": "ipython",
    "version": 3
   },
   "file_extension": ".py",
   "mimetype": "text/x-python",
   "name": "python",
   "nbconvert_exporter": "python",
   "pygments_lexer": "ipython3",
   "version": "3.10.8"
  }
 },
 "nbformat": 4,
 "nbformat_minor": 5
}
